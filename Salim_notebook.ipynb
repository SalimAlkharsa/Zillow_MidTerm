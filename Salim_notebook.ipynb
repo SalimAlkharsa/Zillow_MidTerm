{
  "nbformat": 4,
  "nbformat_minor": 0,
  "metadata": {
    "colab": {
      "provenance": []
    },
    "kernelspec": {
      "name": "python3",
      "display_name": "Python 3"
    },
    "language_info": {
      "name": "python"
    }
  },
  "cells": [
    {
      "cell_type": "code",
      "execution_count": 1,
      "metadata": {
        "colab": {
          "base_uri": "https://localhost:8080/"
        },
        "id": "cAZ9xNF3znV5",
        "outputId": "7eb7964e-20da-4f28-b2d1-fdb489a5674c"
      },
      "outputs": [
        {
          "output_type": "stream",
          "name": "stdout",
          "text": [
            "Mounted at /content/drive/\n"
          ]
        }
      ],
      "source": [
        "#Mount to Drive\n",
        "from google.colab import drive\n",
        "drive.mount('/content/drive/', force_remount=True)"
      ]
    },
    {
      "cell_type": "code",
      "source": [
        "#Set path\n",
        "path = '/content/drive/Shareddrives/ECEN_STAT_Midterm/'"
      ],
      "metadata": {
        "id": "Til3C4z-4Iti"
      },
      "execution_count": 2,
      "outputs": []
    },
    {
      "cell_type": "code",
      "source": [
        "#Imports\n",
        "import pandas as pd\n",
        "import matplotlib.pyplot as plt"
      ],
      "metadata": {
        "id": "gLKMF-YZ5hyk"
      },
      "execution_count": 3,
      "outputs": []
    },
    {
      "cell_type": "markdown",
      "source": [
        "# Loading and Preprocessing the Data"
      ],
      "metadata": {
        "id": "9dJRyNydNFBS"
      }
    },
    {
      "cell_type": "code",
      "source": [
        "#Load data\n",
        "df = pd.read_csv(path+\"properties_2016.csv\")\n",
        "df.head()"
      ],
      "metadata": {
        "id": "SIjLx0Cq3cBr"
      },
      "execution_count": null,
      "outputs": []
    },
    {
      "cell_type": "code",
      "source": [
        "#Merge the log error and other associated data\n",
        "log_df = pd.read_csv(path+\"train_2016_v2.csv\")\n",
        "df = df.merge(log_df, on='parcelid', how = 'left')\n",
        "df.head()"
      ],
      "metadata": {
        "id": "hqu9tdp2MvZq"
      },
      "execution_count": null,
      "outputs": []
    },
    {
      "cell_type": "code",
      "source": [
        "#Checking the Null situation\n",
        "print(\"----\\n Vars missing their data \\n----\\n\")\n",
        "n_null = df.isnull().sum() / len(df) * 100\n",
        "print(n_null)"
      ],
      "metadata": {
        "id": "578avXTe_qFw"
      },
      "execution_count": null,
      "outputs": []
    },
    {
      "cell_type": "code",
      "source": [
        "#Check the data for abnormality\n",
        "print(\"----\\n Checking Data Abnormality \\n----\\n\")\n",
        "df.describe()"
      ],
      "metadata": {
        "id": "nSh1ZexXO0Ou"
      },
      "execution_count": null,
      "outputs": []
    },
    {
      "cell_type": "code",
      "source": [
        "#Check the data types\n",
        "print(\"----\\n Checking Data Types \\n----\\n\")\n",
        "print(df.dtypes)"
      ],
      "metadata": {
        "id": "uTyigl9lQZvm"
      },
      "execution_count": null,
      "outputs": []
    },
    {
      "cell_type": "markdown",
      "source": [
        "TO DO:\n",
        "\n",
        "\n",
        "*   Fix the var types of the following types\n",
        "\n",
        "  *  parcelid -> object\n",
        "      * Nothing else comes to mind for now but that is subject to change\n",
        "*   Drop due too many Null values, where the null values can't provide insight\n",
        "    \n",
        "    * buildingclasstypeid\n",
        "    * decktypeid\n",
        "    * finishedsquarefeet6\n",
        "    * finishedsquarefeet13\n",
        "    * finishedsquarefeet50\n",
        "    * storytypeid\n",
        "    * yardbuildingsqft26\n",
        "    * yardbuildingsqft17\n",
        "\n"
      ],
      "metadata": {
        "id": "VEET8Ih-PEW_"
      }
    },
    {
      "cell_type": "code",
      "source": [
        "# Fix variable types\n",
        "df['parcelid'] = df['parcelid'].astype(str)\n",
        "\n",
        "# Drop columns with many null values\n",
        "df.drop(['buildingclasstypeid', 'decktypeid', 'finishedsquarefeet6', 'finishedsquarefeet13',\n",
        "         'finishedsquarefeet50', 'storytypeid', 'yardbuildingsqft26', 'yardbuildingsqft17'], axis=1, inplace=True)"
      ],
      "metadata": {
        "id": "82_Su8GTO9VS"
      },
      "execution_count": null,
      "outputs": []
    },
    {
      "cell_type": "markdown",
      "source": [
        "#Salim: Doing Analysis Based on the Location Data"
      ],
      "metadata": {
        "id": "sfv2ZIA1TEr_"
      }
    },
    {
      "cell_type": "code",
      "source": [
        "df[['longitude', 'latitude']].mean()"
      ],
      "metadata": {
        "id": "_Z2itPs2okRk"
      },
      "execution_count": null,
      "outputs": []
    },
    {
      "cell_type": "code",
      "source": [
        "# Create a scatter plot of longitude vs. latitude\n",
        "df.plot(kind='scatter', x='longitude', y='latitude', figsize=(10, 10))\n",
        "\n",
        "# Show the plot\n",
        "plt.show()"
      ],
      "metadata": {
        "id": "ZGpAbd37TMX6"
      },
      "execution_count": null,
      "outputs": []
    },
    {
      "cell_type": "markdown",
      "source": [
        "Judging by the map this is Los Angeles\n",
        "\n",
        "CHECK ME:\n",
        "  * Verify that the data is indeed limited to LA by checking\n",
        "    1. Zip Codes\n",
        "    2. Region County Id"
      ],
      "metadata": {
        "id": "Ccc1qUJ2hC7M"
      }
    },
    {
      "cell_type": "markdown",
      "source": [
        "Verify the ZipCodes\n",
        "\n",
        "A zipcode is from California if its in the range [90001, 96161] per https://www.zipcodestogo.com/California/"
      ],
      "metadata": {
        "id": "gOlqjX5wjroC"
      }
    },
    {
      "cell_type": "code",
      "source": [
        "#See if the zip code is in California\n",
        "is_in_california = df['regionidzip'].isin(range(90001, 96162))\n",
        "counts = is_in_california.value_counts()\n",
        "counts.plot(kind='bar')\n",
        "plt.xlabel('is_in_california')\n",
        "plt.ylabel('Count')\n",
        "plt.show()"
      ],
      "metadata": {
        "id": "t5J8_MQChHfU"
      },
      "execution_count": null,
      "outputs": []
    },
    {
      "cell_type": "markdown",
      "source": [
        "CHECK ME\n",
        "  * The zip codes are very off. This is due to one of two things. Either the initial assumption is wrong- or the listing zipIds are different bc of the agent/lister"
      ],
      "metadata": {
        "id": "ZOEDf8awixtf"
      }
    },
    {
      "cell_type": "code",
      "source": [
        "#Verify Counties\n",
        "county_counts = df['regionidcounty'].value_counts()\n",
        "county_counts.plot(kind='bar', figsize=(10, 6))"
      ],
      "metadata": {
        "id": "6u5CAO9FjY_X"
      },
      "execution_count": null,
      "outputs": []
    },
    {
      "cell_type": "code",
      "source": [
        "#Ok so we have 3 counties in the dataset- lets make sure they overlay logically\n",
        "plt.scatter(df['longitude'], df['latitude'], c=df['regionidcounty'])\n",
        "plt.legend()\n",
        "# Show the plot\n",
        "plt.show()"
      ],
      "metadata": {
        "id": "2BQUgcB_j8I2"
      },
      "execution_count": null,
      "outputs": []
    },
    {
      "cell_type": "code",
      "source": [
        "#Finding what each county is quickly\n",
        "county_names = {3101: 'Los Angeles', 1286: 'Orange', 2061: 'Ventura'}\n",
        "for county_code, county_name in county_names.items():\n",
        "    temp_df = df[df['regionidcounty'] == county_code]\n",
        "    plt.scatter(temp_df['longitude'], temp_df['latitude'], label=county_name)\n",
        "plt.legend()\n",
        "plt.show()"
      ],
      "metadata": {
        "id": "kTvZWANBsikX"
      },
      "execution_count": null,
      "outputs": []
    },
    {
      "cell_type": "code",
      "source": [
        "#Now that the changes are verified rename the counties\n",
        "county_names = {3101: 'Los Angeles', 1286: 'Orange', 2061: 'Ventura'}\n",
        "df['regionidcounty'] = df['regionidcounty'].replace(county_names)"
      ],
      "metadata": {
        "id": "T7dJEuaMt_1q"
      },
      "execution_count": null,
      "outputs": []
    },
    {
      "cell_type": "markdown",
      "source": [
        "Now we have verified that the map is indeed in LA since there are 3 counties in the dataset all belonging to LA."
      ],
      "metadata": {
        "id": "Je44yZ0dx3tT"
      }
    },
    {
      "cell_type": "markdown",
      "source": [
        "Relationship of Location & Prediction Strength (as evaluated by Log Loss)"
      ],
      "metadata": {
        "id": "yqMDMb_3ydDf"
      }
    },
    {
      "cell_type": "code",
      "source": [
        "#Can we quantify the predictions based on location perhaps?\n",
        "subset = df[df['logerror'].notnull()]\n",
        "plt.hexbin(subset['longitude'], subset['latitude'], C=subset['logerror'], gridsize=10000, cmap='YlOrRd')\n",
        "plt.colorbar()\n",
        "plt.show()"
      ],
      "metadata": {
        "id": "1FXab2mxyDaC"
      },
      "execution_count": null,
      "outputs": []
    }
  ]
}